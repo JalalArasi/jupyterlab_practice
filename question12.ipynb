{
 "cells": [
  {
   "cell_type": "markdown",
   "id": "c1efb309-d010-4edb-bad2-871bb2f9b509",
   "metadata": {},
   "source": [
    "## We are currently working in the following directory:"
   ]
  },
  {
   "cell_type": "code",
   "execution_count": 12,
   "id": "6990230d-9a3d-4126-a427-b002f65bf807",
   "metadata": {},
   "outputs": [
    {
     "name": "stdout",
     "output_type": "stream",
     "text": [
      "/c/Users/Shanaz/Downloads/student-a7/student\n"
     ]
    }
   ],
   "source": [
    "%%bash\n",
    "pwd"
   ]
  },
  {
   "cell_type": "markdown",
   "id": "b59e5a9d-d3ab-4936-86bd-bb9358b86754",
   "metadata": {},
   "source": [
    "### To time how long it takes to run a Python cell, we could use the timeit command inside a cell as is shown below: Followed by the proper use of the timeit command to time the following loop:\n",
    "```\n",
    "for i in range(1_000_000):\n",
    "    i**2\n",
    "```"
   ]
  },
  {
   "cell_type": "code",
   "execution_count": 13,
   "id": "f90330d4-92db-4e61-947b-fbc6152d8225",
   "metadata": {},
   "outputs": [
    {
     "name": "stderr",
     "output_type": "stream",
     "text": [
      "[NbConvertApp] Converting notebook question12.ipynb.ipynb to html\n",
      "[NbConvertApp] Writing 272141 bytes to question12.ipynb.html\n"
     ]
    }
   ],
   "source": [
    "%%bash\n",
    "jupyter nbconvert --to html --TemplateExporter.exclude_input=True question12.ipynb\n"
   ]
  },
  {
   "cell_type": "code",
   "execution_count": null,
   "id": "78830b05-3728-402e-a0ce-c025f8675730",
   "metadata": {},
   "outputs": [],
   "source": []
  },
  {
   "cell_type": "code",
   "execution_count": null,
   "id": "c9f65b32-7737-4a80-b291-e4867024be94",
   "metadata": {},
   "outputs": [],
   "source": []
  }
 ],
 "metadata": {
  "kernelspec": {
   "display_name": "Python 3 (ipykernel)",
   "language": "python",
   "name": "python3"
  },
  "language_info": {
   "codemirror_mode": {
    "name": "ipython",
    "version": 3
   },
   "file_extension": ".py",
   "mimetype": "text/x-python",
   "name": "python",
   "nbconvert_exporter": "python",
   "pygments_lexer": "ipython3",
   "version": "3.12.2"
  }
 },
 "nbformat": 4,
 "nbformat_minor": 5
}
