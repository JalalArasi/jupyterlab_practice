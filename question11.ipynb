{
 "cells": [
  {
   "cell_type": "markdown",
   "id": "8414f287-9638-4157-8175-29ea8abc4585",
   "metadata": {},
   "source": [
    "# Jalal Arasi"
   ]
  },
  {
   "cell_type": "markdown",
   "id": "cbde80d0-4f6f-4fe4-8682-1acec62de05c",
   "metadata": {},
   "source": [
    "## Notebook for assignment 7"
   ]
  },
  {
   "cell_type": "code",
   "execution_count": 1,
   "id": "d32e9369-79bc-4f10-b868-ba2e3b779409",
   "metadata": {},
   "outputs": [],
   "source": [
    "def compute_mean(nums):\n",
    "    return sum(nums) / len(nums)"
   ]
  },
  {
   "cell_type": "code",
   "execution_count": 2,
   "id": "2755c864-f12a-4de1-9dc9-2ef495d68b10",
   "metadata": {},
   "outputs": [
    {
     "data": {
      "text/plain": [
       "5.0"
      ]
     },
     "execution_count": 2,
     "metadata": {},
     "output_type": "execute_result"
    }
   ],
   "source": [
    "compute_mean([2, 4, 6, 8])"
   ]
  },
  {
   "cell_type": "markdown",
   "id": "8b94b6c3-f0d2-44ae-99bb-e36034faad57",
   "metadata": {},
   "source": [
    "The mean (x̄) of a list of numbers \\( x_1, x_2, \\dots, x_n \\) can be calculated using the following formulas:\n",
    "\n",
    "1. Arithmetic Mean:\n",
    "   \\[ \\bar{x} = \\frac{1}{n} \\sum_{i=1}^{n} x_i \\]\n",
    "\n",
    "2. Sample Mean:\n",
    "   \\[ \\bar{x} = \\frac{x_1 + x_2 + \\dots + x_n}{n} \\]\n"
   ]
  },
  {
   "cell_type": "markdown",
   "id": "6cd3b642-e06f-46bc-b2cf-3691bdc0578c",
   "metadata": {},
   "source": [
    "![Mean Value](https://raw.githubusercontent.com/JalalArasi/jupyterlab_practice/developer-1/Q11_Ass7.png)"
   ]
  },
  {
   "cell_type": "code",
   "execution_count": null,
   "id": "99592eac-1d71-4459-bbf5-15c4a0aa92b2",
   "metadata": {},
   "outputs": [],
   "source": []
  }
 ],
 "metadata": {
  "kernelspec": {
   "display_name": "Python 3 (ipykernel)",
   "language": "python",
   "name": "python3"
  },
  "language_info": {
   "codemirror_mode": {
    "name": "ipython",
    "version": 3
   },
   "file_extension": ".py",
   "mimetype": "text/x-python",
   "name": "python",
   "nbconvert_exporter": "python",
   "pygments_lexer": "ipython3",
   "version": "3.12.2"
  }
 },
 "nbformat": 4,
 "nbformat_minor": 5
}
